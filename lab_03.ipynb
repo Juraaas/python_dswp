{
  "nbformat": 4,
  "nbformat_minor": 0,
  "metadata": {
    "colab": {
      "provenance": []
    },
    "kernelspec": {
      "name": "python3",
      "display_name": "Python 3"
    },
    "language_info": {
      "name": "python"
    }
  },
  "cells": [
    {
      "cell_type": "code",
      "execution_count": null,
      "metadata": {
        "id": "UbeI8TSkXOsq"
      },
      "outputs": [],
      "source": [
        "#Zadanie 1\n",
        "collection = list(range(1,11))\n",
        "first_half = collection[:5]\n",
        "second_half = collection[5:]"
      ]
    },
    {
      "cell_type": "code",
      "source": [
        "print(f\"pierwsza polowa: {first_half}\")\n",
        "print(f\"druga polowa: {second_half}\")"
      ],
      "metadata": {
        "colab": {
          "base_uri": "https://localhost:8080/"
        },
        "id": "jqTbtcK7Y2Ic",
        "outputId": "4c351486-2eae-432e-f163-1e25403451f2"
      },
      "execution_count": null,
      "outputs": [
        {
          "output_type": "stream",
          "name": "stdout",
          "text": [
            "pierwsza polowa: [1, 2, 3, 4, 5]\n",
            "druga polowa: [6, 7, 8, 9, 10]\n"
          ]
        }
      ]
    },
    {
      "cell_type": "code",
      "source": [
        "#Zadanie 2\n",
        "connected = first_half + second_half\n",
        "connected.insert(0, 0)\n",
        "list_copy = connected.copy()\n",
        "list_copy.sort(reverse=True)"
      ],
      "metadata": {
        "id": "jzV7PKU-ZGBF"
      },
      "execution_count": null,
      "outputs": []
    },
    {
      "cell_type": "code",
      "source": [
        "print(f\"połączona lista z dodanym 0: {connected}\")\n",
        "print(f\"połączona posortowana: {list_copy}\")"
      ],
      "metadata": {
        "colab": {
          "base_uri": "https://localhost:8080/"
        },
        "id": "izQAFkqyaqCo",
        "outputId": "a77b759f-8c17-40b2-9fab-eb699eb1284f"
      },
      "execution_count": null,
      "outputs": [
        {
          "output_type": "stream",
          "name": "stdout",
          "text": [
            "połączona lista z dodanym 0: [0, 1, 2, 3, 4, 5, 6, 7, 8, 9, 10]\n",
            "połączona posortowana: [10, 9, 8, 7, 6, 5, 4, 3, 2, 1, 0]\n"
          ]
        }
      ]
    },
    {
      "cell_type": "code",
      "source": [
        "#Zadanie 3\n",
        "text = input(\"wprowadź tekst:\")\n",
        "unique = sorted(set(text.lower()))"
      ],
      "metadata": {
        "id": "DyCawltcbsiE"
      },
      "execution_count": null,
      "outputs": []
    },
    {
      "cell_type": "code",
      "source": [
        "print(\"unikalne znaki:\", unique)"
      ],
      "metadata": {
        "colab": {
          "base_uri": "https://localhost:8080/"
        },
        "id": "9vkQ8bKhcl_g",
        "outputId": "5dfde117-82da-441e-b90b-8baf98045e5f"
      },
      "execution_count": null,
      "outputs": [
        {
          "output_type": "stream",
          "name": "stdout",
          "text": [
            "unikalne znaki: ['a', 'b', 'e', 'f', 'i', 'k', 'l', 'r', 's', 't', 'u', 'w', 'y', 'z']\n"
          ]
        }
      ]
    },
    {
      "cell_type": "code",
      "source": [
        "#Zadanie 4\n",
        "year_pl = {i: month for i, month in enumerate([\"Styczeń\", \"Luty\", \"Marzec\", \"Kwiecień\", \"Maj\", \"Czerwiec\", \"Lipiec\", \"Sierpień\", \"Wrzesień\", \"Październik\", \"Listopad\", \"Grudzień\"], start=1)}"
      ],
      "metadata": {
        "id": "-p4v8RBhcocd"
      },
      "execution_count": null,
      "outputs": []
    },
    {
      "cell_type": "code",
      "source": [
        "print(\"słownik miesięcy:\", year_pl)"
      ],
      "metadata": {
        "colab": {
          "base_uri": "https://localhost:8080/"
        },
        "id": "9spkiGZYdDrl",
        "outputId": "31f74f2e-181b-47ba-c253-5907acf71e4d"
      },
      "execution_count": null,
      "outputs": [
        {
          "output_type": "stream",
          "name": "stdout",
          "text": [
            "słownik miesięcy: {1: 'Styczeń', 2: 'Luty', 3: 'Marzec', 4: 'Kwiecień', 5: 'Maj', 6: 'Czerwiec', 7: 'Lipiec', 8: 'Sierpień', 9: 'Wrzesień', 10: 'Październik', 11: 'Listopad', 12: 'Grudzień'}\n"
          ]
        }
      ]
    },
    {
      "cell_type": "code",
      "source": [
        "#Zadanie 5\n",
        "year_en = {i: month for i, month in enumerate([\"January\", \"February\", \"March\", \"April\", \"May\", \"June\", \"July\", \"August\", \"September\", \"October\", \"November\", \"December\"], start=1)}\n",
        "\n",
        "months = {'pl': year_pl, 'en': year_en}\n",
        "print(\"połączone słowniki miesięcy:\", months)"
      ],
      "metadata": {
        "colab": {
          "base_uri": "https://localhost:8080/"
        },
        "id": "QDn-ukxtdJ23",
        "outputId": "2d5e61f9-07d3-41cb-c897-1437a1c64156"
      },
      "execution_count": null,
      "outputs": [
        {
          "output_type": "stream",
          "name": "stdout",
          "text": [
            "połączone słowniki miesięcy: {'pl': {1: 'Styczeń', 2: 'Luty', 3: 'Marzec', 4: 'Kwiecień', 5: 'Maj', 6: 'Czerwiec', 7: 'Lipiec', 8: 'Sierpień', 9: 'Wrzesień', 10: 'Październik', 11: 'Listopad', 12: 'Grudzień'}, 'en': {1: 'January', 2: 'February', 3: 'March', 4: 'April', 5: 'May', 6: 'June', 7: 'July', 8: 'August', 9: 'September', 10: 'October', 11: 'November', 12: 'December'}}\n"
          ]
        }
      ]
    },
    {
      "cell_type": "code",
      "source": [
        "print(f\"4 miesiąc polski: {months['pl'][4]}\")\n",
        "print(f\"6 miesiąc angielski: {months['en'][6]}\")"
      ],
      "metadata": {
        "colab": {
          "base_uri": "https://localhost:8080/"
        },
        "id": "PkMpHjYVdyf7",
        "outputId": "33582c33-4dfc-4134-86c6-fb8c5f094beb"
      },
      "execution_count": null,
      "outputs": [
        {
          "output_type": "stream",
          "name": "stdout",
          "text": [
            "4 miesiąc polski: Kwiecień\n",
            "6 miesiąc angielski: June\n"
          ]
        }
      ]
    },
    {
      "cell_type": "code",
      "source": [
        "#Zadanie 6\n",
        "key = 'Marianna'\n",
        "dict_key = dict.fromkeys(key, 1)\n",
        "\n",
        "print(\"słownik imienia:\", dict_key)\n",
        "\n",
        "#metoda fromkeys() nie obsługuje dynamicznego podawania wartości dla każdego klucza, wszystkie klucze otrzymują tę samą wartość domyślną. lepiej uzyc petli"
      ],
      "metadata": {
        "colab": {
          "base_uri": "https://localhost:8080/"
        },
        "id": "3Aa3FouJeUGC",
        "outputId": "a340273b-7415-49bc-c7c4-d7e57cf3af14"
      },
      "execution_count": null,
      "outputs": [
        {
          "output_type": "stream",
          "name": "stdout",
          "text": [
            "słownik imienia: {'M': 1, 'a': 1, 'r': 1, 'i': 1, 'n': 1}\n"
          ]
        }
      ]
    },
    {
      "cell_type": "code",
      "source": [
        "#Zadanie 7\n",
        "import string\n",
        "text = input(\"Wprowadź dowolny łańcuch znaków: \")\n",
        "lowercase_per = (sum(1 for char in text if char.lower() in string.ascii_lowercase) / int(len(text))) * 100\n",
        "digit_per = (sum(1 for char in text if char.isdigit()) / int(len(text))) * 100"
      ],
      "metadata": {
        "colab": {
          "base_uri": "https://localhost:8080/"
        },
        "id": "uwB7jjy1faAS",
        "outputId": "48ca597d-af39-489a-94d9-a4834b56055f"
      },
      "execution_count": 7,
      "outputs": [
        {
          "name": "stdout",
          "output_type": "stream",
          "text": [
            "Wprowadź dowolny łańcuch znaków: lancuchZNAKOW12345\n"
          ]
        }
      ]
    },
    {
      "cell_type": "code",
      "source": [
        "print(f\"Ilość znaków: {len(text)}\")\n",
        "print(f\"Procent małych liter: {lowercase_per:.2f}%\")\n",
        "print(f\"Procent cyfr: {digit_per:.2f}%\")"
      ],
      "metadata": {
        "colab": {
          "base_uri": "https://localhost:8080/"
        },
        "id": "H1NMT6pyhaUa",
        "outputId": "519c64d9-59d8-48b4-8c37-52e23ea30d89"
      },
      "execution_count": 8,
      "outputs": [
        {
          "output_type": "stream",
          "name": "stdout",
          "text": [
            "Ilość znaków: 18\n",
            "Procent małych liter: 72.22%\n",
            "Procent cyfr: 27.78%\n"
          ]
        }
      ]
    }
  ]
}