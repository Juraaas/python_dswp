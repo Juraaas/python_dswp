{
  "nbformat": 4,
  "nbformat_minor": 0,
  "metadata": {
    "colab": {
      "provenance": []
    },
    "kernelspec": {
      "name": "python3",
      "display_name": "Python 3"
    },
    "language_info": {
      "name": "python"
    }
  },
  "cells": [
    {
      "cell_type": "code",
      "execution_count": 15,
      "metadata": {
        "id": "NPOur5nLEJyp"
      },
      "outputs": [],
      "source": [
        "# Zadanie 1: Tworzenie obiektów typu int i float\n",
        "int_obj1 = int(15)\n",
        "int_obj2 = int('1110', 2)\n",
        "\n",
        "float_obj1 = float(3.7777)\n",
        "float_obj2 = float('2.7213')"
      ]
    },
    {
      "cell_type": "code",
      "source": [
        "# Zadanie 2: Wykorzystanie metod int.bit_count() i float.is_integer()\n",
        "bit_count_result = int_obj1.bit_count()\n",
        "is_integer_result = float_obj1.is_integer()\n",
        "\n",
        "print(f\"int.bit_count(): {bit_count_result}\")\n",
        "print(f\"float.is_integer(): {is_integer_result}\")"
      ],
      "metadata": {
        "colab": {
          "base_uri": "https://localhost:8080/"
        },
        "id": "rOZVGJ0JEQNE",
        "outputId": "b0dba697-32bb-4296-dcac-afbc4551d88b"
      },
      "execution_count": 16,
      "outputs": [
        {
          "output_type": "stream",
          "name": "stdout",
          "text": [
            "int.bit_count(): 4\n",
            "float.is_integer(): False\n"
          ]
        }
      ]
    },
    {
      "cell_type": "code",
      "source": [
        "# Zadanie 3: Konwersja liczby całkowitej na binarną i z powrotem\n",
        "num_to_convert = 42\n",
        "binary_representation = bin(num_to_convert)\n",
        "converted_back = int(binary_representation, 2)\n",
        "\n",
        "print(f\"Liczba {num_to_convert} w systemie binarnym: {binary_representation}\")\n",
        "print(f\"Konwersja z powrotem: {converted_back}\")"
      ],
      "metadata": {
        "colab": {
          "base_uri": "https://localhost:8080/"
        },
        "id": "AuRFtdQuEUQt",
        "outputId": "3fbb1c6b-ce76-4ee8-8610-f2bf6301f42c"
      },
      "execution_count": 17,
      "outputs": [
        {
          "output_type": "stream",
          "name": "stdout",
          "text": [
            "Liczba 42 w systemie binarnym: 0b101010\n",
            "Konwersja z powrotem: 42\n"
          ]
        }
      ]
    },
    {
      "cell_type": "code",
      "source": [
        "# Zadanie 4: Operatory bitowe\n",
        "example1 = 0b1010 & 0b1100\n",
        "example2 = 0b1010 | 0b1100\n",
        "example3 = 0b1010 ^ 0b1100\n",
        "example4 = ~0b1010\n",
        "\n",
        "print(f\"AND: {example1}\")\n",
        "print(f\"OR: {example2}\")\n",
        "print(f\"XOR: {example3}\")\n",
        "print(f\"NOT: {example4}\")"
      ],
      "metadata": {
        "colab": {
          "base_uri": "https://localhost:8080/"
        },
        "id": "FwBJXefFEV8T",
        "outputId": "09dd2a20-13c4-4659-b373-f92ffa511eff"
      },
      "execution_count": 19,
      "outputs": [
        {
          "output_type": "stream",
          "name": "stdout",
          "text": [
            "AND: 8\n",
            "OR: 14\n",
            "XOR: 6\n",
            "NOT: -11\n"
          ]
        }
      ]
    },
    {
      "cell_type": "code",
      "source": [
        "# Zadanie 5: Konwersja wartości float na hex\n",
        "float_value = 3.28\n",
        "hex_representation = float_value.hex()\n",
        "converted_back_float = float.fromhex(hex_representation)\n",
        "\n",
        "print(f\"Konwersja float to hex: {hex_representation}\")\n",
        "print(f\"Konwersja z powrotem: {converted_back_float}\")"
      ],
      "metadata": {
        "colab": {
          "base_uri": "https://localhost:8080/"
        },
        "id": "7njtkzCUEas_",
        "outputId": "bf93e977-6e39-46e8-e50f-86345d992397"
      },
      "execution_count": 20,
      "outputs": [
        {
          "output_type": "stream",
          "name": "stdout",
          "text": [
            "Konwersja float to hex: 0x1.a3d70a3d70a3dp+1\n",
            "Konwersja z powrotem: 3.28\n"
          ]
        }
      ]
    }
  ]
}