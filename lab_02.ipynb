{
  "nbformat": 4,
  "nbformat_minor": 0,
  "metadata": {
    "colab": {
      "provenance": []
    },
    "kernelspec": {
      "name": "python3",
      "display_name": "Python 3"
    },
    "language_info": {
      "name": "python"
    }
  },
  "cells": [
    {
      "cell_type": "code",
      "source": [
        "# Zadanie 1\n",
        "line_data = input(\"Podaj linię danych rozdzieloną separatorem: \")\n",
        "source_separator = input(\"Podaj separator źródłowy: \")\n",
        "target_separator = input(\"Podaj separator docelowy: \")\n",
        "#da sie zrobic w 1\n",
        "one_liner = line_data.replace(source_separator, target_separator)\n",
        "\n",
        "if line_data:\n",
        "    data_list = line_data.split(source_separator)\n",
        "\n",
        "    converted_line = target_separator.join(data_list)\n",
        "\n",
        "    print(f\"Konwertowana linia danych: {converted_line}\")\n",
        "else:\n",
        "    print(\"Wprowadzona linia danych jest pusta.\")\n",
        "\n",
        "print(f\"Linia danych z uzyciem replace zamiast split+join: {one_liner}\")"
      ],
      "metadata": {
        "colab": {
          "base_uri": "https://localhost:8080/"
        },
        "id": "FZ3BYBg-Bsrd",
        "outputId": "692eba82-ddd1-4e67-a645-bc8ad95c04b1"
      },
      "execution_count": null,
      "outputs": [
        {
          "output_type": "stream",
          "name": "stdout",
          "text": [
            "Podaj linię danych rozdzieloną separatorem: x-d\n",
            "Podaj separator źródłowy: -\n",
            "Podaj separator docelowy: :\n",
            "Konwertowana linia danych: x:d\n",
            "Linia danych z uzyciem replace zamiast split+join: x:d\n"
          ]
        }
      ]
    },
    {
      "cell_type": "code",
      "source": [
        "# Zadanie 2\n",
        "input_string = input(\"Podaj łańcuch znaków: \")\n",
        "\n",
        "length = len(input_string)\n",
        "\n",
        "s1 = slice(int(len(input_string) / 2))\n",
        "s2 = slice(int(len(input_string) / 2), len(input_string))\n",
        "\n",
        "print(\"Podzielone części:\")\n",
        "print(f\"Pierwsza część: {input_string[s1]}\")\n",
        "print(f\"Druga część: {input_string[s2]}\")\n",
        "\n",
        "every_second_from_end = slice(int(len(input_string)), None, -2)\n",
        "print(\"\\nCo drugi znak od końca:\")\n",
        "print(input_string[every_second_from_end])"
      ],
      "metadata": {
        "colab": {
          "base_uri": "https://localhost:8080/"
        },
        "id": "E7ZLmN3ODlZK",
        "outputId": "f729d83b-d946-43e9-a9ee-3c896bfdd836"
      },
      "execution_count": null,
      "outputs": [
        {
          "output_type": "stream",
          "name": "stdout",
          "text": [
            "Podaj łańcuch znaków: chuj\n",
            "Podzielone części:\n",
            "Pierwsza część: ch\n",
            "Druga część: uj\n",
            "\n",
            "Co drugi znak od końca:\n",
            "jh\n"
          ]
        }
      ]
    },
    {
      "cell_type": "code",
      "source": [
        "# Zadanie 3\n",
        "\n",
        "string = 'coż za wyrafinowane zdanie'\n",
        "\n",
        "print(f\"title: {string.title()}\")\n",
        "print(f\"capitalize: {string.capitalize()}\")\n",
        "print(f\"zfill: {string.zfill(30)}\")\n",
        "print(f\"upper: {string.upper()}\")\n",
        "print(f\"count(a): {string.count('a')}\")\n",
        "print(f\"center '-': {string.center(40, '-')}\")"
      ],
      "metadata": {
        "colab": {
          "base_uri": "https://localhost:8080/"
        },
        "id": "WaeY0u4zJRHA",
        "outputId": "1b3ab344-80b8-4e53-bfe8-9aa2fa02f373"
      },
      "execution_count": null,
      "outputs": [
        {
          "output_type": "stream",
          "name": "stdout",
          "text": [
            "title: Coż Za Wyrafinowane Zdanie\n",
            "capitalize: Coż za wyrafinowane zdanie\n",
            "zfill: 0000coż za wyrafinowane zdanie\n",
            "upper: COŻ ZA WYRAFINOWANE ZDANIE\n",
            "count(a): 4\n",
            "center '-': -------coż za wyrafinowane zdanie-------\n"
          ]
        }
      ]
    },
    {
      "cell_type": "code",
      "source": [
        "# Zadanie 4\n",
        "input_variable = input(\"Podaj łańcuch znaków\")\n",
        "\n",
        "print(f\"Łańcuch {input_variable} isdecimal: {input_variable.isdecimal()}\")\n",
        "print(f\"Łańcuch {input_variable} isalpha: {input_variable.isalpha()}\")\n",
        "print(f\"Łańcuch {input_variable} isascii: {input_variable.isascii()}\")\n",
        "print(f\"Łańcuch {input_variable} isprintable: {input_variable.isprintable()}\")\n",
        "print(f\"Łańcuch {input_variable} istitle: {input_variable.istitle()}\")\n",
        "print(f\"Łańcuch {input_variable} isupper: {input_variable.isupper()}\")"
      ],
      "metadata": {
        "colab": {
          "base_uri": "https://localhost:8080/"
        },
        "id": "v8EXOIpaLcph",
        "outputId": "cff23c42-0da4-417c-eee3-3a5118d3e55c"
      },
      "execution_count": null,
      "outputs": [
        {
          "output_type": "stream",
          "name": "stdout",
          "text": [
            "Podaj łańcuch znaków1235049539\n",
            "Łańcuch 1235049539 isdecimal: True\n",
            "Łańcuch 1235049539 isalpha: False\n",
            "Łańcuch 1235049539 isascii: True\n",
            "Łańcuch 1235049539 isprintable: True\n",
            "Łańcuch 1235049539 istitle: False\n",
            "Łańcuch 1235049539 isupper: False\n"
          ]
        }
      ]
    },
    {
      "cell_type": "code",
      "source": [
        "# Zadanie 5\n",
        "text = \"Hello\"\n",
        "formatted_text = f\"{text:<10}World\"\n",
        "print(formatted_text)"
      ],
      "metadata": {
        "colab": {
          "base_uri": "https://localhost:8080/"
        },
        "id": "wKoJH5xv4ow5",
        "outputId": "f79fdaf7-b057-4bdf-9384-45e09f9c084d"
      },
      "execution_count": 10,
      "outputs": [
        {
          "output_type": "stream",
          "name": "stdout",
          "text": [
            "Hello     World\n",
            "+42\n"
          ]
        }
      ]
    },
    {
      "cell_type": "code",
      "source": [
        "number = 42\n",
        "formatted_number = f\"{number:>10}\"\n",
        "print(formatted_number)"
      ],
      "metadata": {
        "colab": {
          "base_uri": "https://localhost:8080/"
        },
        "id": "ZPQuD7pN4rX9",
        "outputId": "c71800e9-d9df-4694-fb04-cdbdbea8f84b"
      },
      "execution_count": 11,
      "outputs": [
        {
          "output_type": "stream",
          "name": "stdout",
          "text": [
            "        42\n"
          ]
        }
      ]
    },
    {
      "cell_type": "code",
      "source": [
        "number = 777666333\n",
        "formatted_number = f'{number:+d}'\n",
        "print(formatted_number)"
      ],
      "metadata": {
        "colab": {
          "base_uri": "https://localhost:8080/"
        },
        "id": "lsxdBVOM44ir",
        "outputId": "90aa9dcb-531f-482c-eab2-0bfec359d170"
      },
      "execution_count": 13,
      "outputs": [
        {
          "output_type": "stream",
          "name": "stdout",
          "text": [
            "+777666333\n"
          ]
        }
      ]
    },
    {
      "cell_type": "code",
      "source": [
        "from datetime import datetime\n",
        "\n",
        "formatted_date = f'{datetime(2024, 3, 6, 20, 3):%Y-%m-%d %H:%M}'\n",
        "print(formatted_date)"
      ],
      "metadata": {
        "colab": {
          "base_uri": "https://localhost:8080/"
        },
        "id": "8yTBpdx6JbiS",
        "outputId": "46b4f2eb-e9f1-4f57-c89c-261501c3b3bd"
      },
      "execution_count": 6,
      "outputs": [
        {
          "output_type": "stream",
          "name": "stdout",
          "text": [
            "2024-03-06 20:03\n"
          ]
        }
      ]
    },
    {
      "cell_type": "code",
      "source": [
        "person = {'first': 'Jakub', 'last': 'Jurewicz'}\n",
        "formatted_name = f'{person[\"first\"]} {person[\"last\"]}'\n",
        "print(formatted_name)"
      ],
      "metadata": {
        "colab": {
          "base_uri": "https://localhost:8080/"
        },
        "id": "19DN6HVtKhLY",
        "outputId": "485f8354-cb1c-4f67-98b7-99c7e892d5fb"
      },
      "execution_count": 14,
      "outputs": [
        {
          "output_type": "stream",
          "name": "stdout",
          "text": [
            "Jakub Jurewicz\n"
          ]
        }
      ]
    },
    {
      "cell_type": "code",
      "source": [
        "# Zadanie 6\n",
        "print(\"Kod z tablicy unicode u058D: \\u058D\")\n",
        "print(\"Kod z tablicy unicode u039F: \\u039F\")\n",
        "print(\"Kod z tablicy unicode u040D: \\u040D\")\n",
        "print(\"Kod z tablicy unicode U+03FE i U+03FF: \\u03FE\\u03FF\")\n",
        "print(\"Kod z tablicy unicode u047C: \\u047C\")\n",
        "print(\"Kod z tablicy unicode u02A6: \\u02A6\")\n",
        "print(\"Kod z tablicy unicode u02A1: \\u02A1\")\n",
        "print(\"Kod z tablicy unicode u0284: \\u0284\")\n",
        "print(\"Kod z tablicy unicode u0239: \\u0239\")\n",
        "print(\"Kod z tablicy unicode u0713: \\u0713\")\n",
        "print(\"Kod z tablicy unicode u06DE: \\u06DE\")"
      ],
      "metadata": {
        "colab": {
          "base_uri": "https://localhost:8080/"
        },
        "id": "RS6qwqwnMkvE",
        "outputId": "76026d08-1c44-4788-e7ff-06ee4542e614"
      },
      "execution_count": 19,
      "outputs": [
        {
          "output_type": "stream",
          "name": "stdout",
          "text": [
            "Kod z tablicy unicode u058D: ֍\n",
            "Kod z tablicy unicode u039F: Ο\n",
            "Kod z tablicy unicode u040D: Ѝ\n",
            "Kod z tablicy unicode U+03FE i U+03FF: ϾϿ\n",
            "Kod z tablicy unicode u047C: Ѽ\n",
            "Kod z tablicy unicode u02A6: ʦ\n",
            "Kod z tablicy unicode u02A1: ʡ\n",
            "Kod z tablicy unicode u0284: ʄ\n",
            "Kod z tablicy unicode u0239: ȹ\n",
            "Kod z tablicy unicode u0713: ܓ\n",
            "Kod z tablicy unicode u06DE: ۞\n"
          ]
        }
      ]
    }
  ]
}